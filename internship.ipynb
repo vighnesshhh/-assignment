{
  "nbformat": 4,
  "nbformat_minor": 0,
  "metadata": {
    "colab": {
      "provenance": [],
      "authorship_tag": "ABX9TyNxN7OwcMc7gv2JDW3ckLmJ",
      "include_colab_link": true
    },
    "kernelspec": {
      "name": "python3",
      "display_name": "Python 3"
    },
    "language_info": {
      "name": "python"
    }
  },
  "cells": [
    {
      "cell_type": "markdown",
      "metadata": {
        "id": "view-in-github",
        "colab_type": "text"
      },
      "source": [
        "<a href=\"https://colab.research.google.com/github/vighnesshhh/-assignment/blob/main/internship.ipynb\" target=\"_parent\"><img src=\"https://colab.research.google.com/assets/colab-badge.svg\" alt=\"Open In Colab\"/></a>"
      ]
    },
    {
      "cell_type": "code",
      "execution_count": null,
      "metadata": {
        "colab": {
          "base_uri": "https://localhost:8080/"
        },
        "id": "z77EmZTWJ4S1",
        "outputId": "5921f877-7a9a-414a-b90b-e06b8da27320"
      },
      "outputs": [
        {
          "output_type": "stream",
          "name": "stdout",
          "text": [
            "{'username': 'admin', 'password': 'pass', 'batch': 2023}\n",
            "admin\n"
          ]
        }
      ],
      "source": [
        "mydic={\n",
        "    \"username\":\"admin\",\n",
        "    \"password\":\"pass\",\n",
        "    \"batch\":2023\n",
        "}\n",
        "print(mydic)\n",
        "print(mydic[\"username\"])\n"
      ]
    },
    {
      "cell_type": "code",
      "source": [
        "def a():\n",
        "  print(\"heelo my dear niggas\")\n",
        "a()"
      ],
      "metadata": {
        "colab": {
          "base_uri": "https://localhost:8080/"
        },
        "id": "ZnMm2xxttZxE",
        "outputId": "1fd6b05f-34b6-4f85-94af-8d7e1610c69e"
      },
      "execution_count": null,
      "outputs": [
        {
          "output_type": "stream",
          "name": "stdout",
          "text": [
            "heelo my dear niggas\n"
          ]
        }
      ]
    },
    {
      "cell_type": "code",
      "source": [
        "def add(num1,num2):\n",
        "  print(\"sum of the numbers is:\",(num1+num2))\n",
        "add(9,10)"
      ],
      "metadata": {
        "colab": {
          "base_uri": "https://localhost:8080/"
        },
        "id": "HVbAXja-OBNJ",
        "outputId": "468b5f79-9ae3-47c6-a6cd-2d23e6a54ee1"
      },
      "execution_count": 1,
      "outputs": [
        {
          "output_type": "stream",
          "name": "stdout",
          "text": [
            "sum of the numbers is: 19\n"
          ]
        }
      ]
    }
  ]
}